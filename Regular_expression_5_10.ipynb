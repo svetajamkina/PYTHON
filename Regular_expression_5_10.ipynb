{
  "nbformat": 4,
  "nbformat_minor": 0,
  "metadata": {
    "colab": {
      "provenance": [],
      "authorship_tag": "ABX9TyNEhKfLE8DdMZcZLmMvC4I5",
      "include_colab_link": true
    },
    "kernelspec": {
      "name": "python3",
      "display_name": "Python 3"
    },
    "language_info": {
      "name": "python"
    }
  },
  "cells": [
    {
      "cell_type": "markdown",
      "metadata": {
        "id": "view-in-github",
        "colab_type": "text"
      },
      "source": [
        "<a href=\"https://colab.research.google.com/github/svetajamkina/PYTHON/blob/main/Regular_expression_5_10.ipynb\" target=\"_parent\"><img src=\"https://colab.research.google.com/assets/colab-badge.svg\" alt=\"Open In Colab\"/></a>"
      ]
    },
    {
      "cell_type": "code",
      "execution_count": 1,
      "metadata": {
        "id": "xf_eOWLtk_Qy"
      },
      "outputs": [],
      "source": [
        "import re #regular expression"
      ]
    },
    {
      "cell_type": "code",
      "source": [
        "text = \"\"\"\n",
        "Alice: 555-123-4567\n",
        "Bob: 333-987-6543\n",
        "Charlie: 777-555-88\n",
        "\"\"\""
      ],
      "metadata": {
        "id": "s50ZpY8GlQdq"
      },
      "execution_count": 2,
      "outputs": []
    },
    {
      "cell_type": "code",
      "source": [
        "text"
      ],
      "metadata": {
        "colab": {
          "base_uri": "https://localhost:8080/",
          "height": 35
        },
        "id": "sTVQV-GdlRbm",
        "outputId": "be4736b7-60bf-44af-8b36-906ba950f065"
      },
      "execution_count": 3,
      "outputs": [
        {
          "output_type": "execute_result",
          "data": {
            "text/plain": [
              "'\\nAlice: 555-123-4567\\nBob: 333-987-6543\\nCharlie: 777-555-88\\n'"
            ],
            "application/vnd.google.colaboratory.intrinsic+json": {
              "type": "string"
            }
          },
          "metadata": {},
          "execution_count": 3
        }
      ]
    },
    {
      "cell_type": "code",
      "source": [
        "#correct format 3-3-4\n",
        "pattern = r'\\d{3}-\\d{3}-\\d{4}' #figure out the pattern\n",
        "\n",
        "matches = re.findall(pattern, text)\n",
        "matches\n",
        "\n",
        "#required output: 555-123-4567, 333-987-6543"
      ],
      "metadata": {
        "colab": {
          "base_uri": "https://localhost:8080/"
        },
        "id": "ZWlFez7FltbW",
        "outputId": "fe50810b-792c-443f-9a83-80dd0cf94afd"
      },
      "execution_count": 4,
      "outputs": [
        {
          "output_type": "execute_result",
          "data": {
            "text/plain": [
              "['555-123-4567', '333-987-6543']"
            ]
          },
          "metadata": {},
          "execution_count": 4
        }
      ]
    },
    {
      "cell_type": "code",
      "source": [
        "print(matches)"
      ],
      "metadata": {
        "colab": {
          "base_uri": "https://localhost:8080/"
        },
        "id": "KhjYTVNApJwN",
        "outputId": "4e4e3ba5-77b4-4d3e-b119-ce18a0f8b254"
      },
      "execution_count": 5,
      "outputs": [
        {
          "output_type": "stream",
          "name": "stdout",
          "text": [
            "['555-123-4567', '333-987-6543']\n"
          ]
        }
      ]
    },
    {
      "cell_type": "code",
      "source": [
        "#re.search-first occurance of a pattern\n",
        "#re.findall-finds all occurance\n",
        "#re.IGNORECASE - pattern matching is case -intensive"
      ],
      "metadata": {
        "id": "8E7lz_4mlZBn"
      },
      "execution_count": null,
      "outputs": []
    },
    {
      "cell_type": "markdown",
      "source": [
        "#dates pattern maching"
      ],
      "metadata": {
        "id": "M9_hJjRepwWw"
      }
    },
    {
      "cell_type": "code",
      "source": [
        "dates =\"\"\n",
        "my_dates_are = \"05-10-2024 and 2002-10-05\"\n",
        "dates\n",
        "pattern2 = r'\\d{2}-\\d{2}-\\d{4}'\n",
        "matches2 = re.findall(pattern2, dates)\n",
        "print(matches2)\n",
        "\n",
        "pattern = r'\\d{2}-\\d{2}-\\d{4}'\n",
        "matches = re.findall(pattern, my_dates_are)\n",
        "print(matches)"
      ],
      "metadata": {
        "colab": {
          "base_uri": "https://localhost:8080/"
        },
        "id": "w3taSp-YpylS",
        "outputId": "03a44a53-36b6-4846-e7d2-fad8d42ff282"
      },
      "execution_count": 19,
      "outputs": [
        {
          "output_type": "stream",
          "name": "stdout",
          "text": [
            "[]\n",
            "['05-10-2024']\n"
          ]
        }
      ]
    },
    {
      "cell_type": "markdown",
      "source": [
        "#E-mail addresses matching"
      ],
      "metadata": {
        "id": "EE8LkbUbr3TG"
      }
    },
    {
      "cell_type": "code",
      "source": [
        "\n",
        "emails = \"\"\"\n",
        "Emails: liza@example.com, roberta@gmail.com, info@company.net\n",
        "\"\"\"\n",
        "\n",
        "pattern3 = r'\\b[A-Za-z0-9._%+-]+@[A-Za-z0-9.-]+\\.[A-Z|a-z]{2,}\\b'\n",
        "matches3 = re.findall(pattern3, emails)\n",
        "matches3"
      ],
      "metadata": {
        "colab": {
          "base_uri": "https://localhost:8080/"
        },
        "id": "bnw1jyZir25W",
        "outputId": "93b42f11-9619-4075-8ef4-f7173cc14ca6"
      },
      "execution_count": 7,
      "outputs": [
        {
          "output_type": "execute_result",
          "data": {
            "text/plain": [
              "['liza@example.com', 'roberta@gmail.com', 'info@company.net']"
            ]
          },
          "metadata": {},
          "execution_count": 7
        }
      ]
    },
    {
      "cell_type": "code",
      "source": [],
      "metadata": {
        "id": "yIRw5RpXsEq_"
      },
      "execution_count": null,
      "outputs": []
    },
    {
      "cell_type": "markdown",
      "source": [],
      "metadata": {
        "id": "efruGK3FsEUt"
      }
    }
  ]
}