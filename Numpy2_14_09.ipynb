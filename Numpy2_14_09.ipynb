{
  "nbformat": 4,
  "nbformat_minor": 0,
  "metadata": {
    "colab": {
      "provenance": [],
      "authorship_tag": "ABX9TyNJC5UWsQwaHomXvm14YJeG",
      "include_colab_link": true
    },
    "kernelspec": {
      "name": "python3",
      "display_name": "Python 3"
    },
    "language_info": {
      "name": "python"
    }
  },
  "cells": [
    {
      "cell_type": "markdown",
      "metadata": {
        "id": "view-in-github",
        "colab_type": "text"
      },
      "source": [
        "<a href=\"https://colab.research.google.com/github/svetajamkina/PYTHON/blob/main/Numpy2_14_09.ipynb\" target=\"_parent\"><img src=\"https://colab.research.google.com/assets/colab-badge.svg\" alt=\"Open In Colab\"/></a>"
      ]
    },
    {
      "cell_type": "code",
      "execution_count": 1,
      "metadata": {
        "id": "1dwNrdTTnRxG"
      },
      "outputs": [],
      "source": [
        "import numpy as np"
      ]
    },
    {
      "cell_type": "code",
      "source": [
        "coint = [\"heads\", \"tails\"]"
      ],
      "metadata": {
        "id": "t-8ebalkn4z7"
      },
      "execution_count": 2,
      "outputs": []
    },
    {
      "cell_type": "code",
      "source": [
        "number_of_throws = 1000"
      ],
      "metadata": {
        "id": "ElJNkQEKoltH"
      },
      "execution_count": 3,
      "outputs": []
    },
    {
      "cell_type": "code",
      "source": [
        "throws = np.random.choice(coint, number_of_throws)\n",
        "throws"
      ],
      "metadata": {
        "colab": {
          "base_uri": "https://localhost:8080/"
        },
        "id": "gBboJxN0oqL9",
        "outputId": "6e972f05-f0d6-44d3-c4ae-7e3734bde77f"
      },
      "execution_count": 4,
      "outputs": [
        {
          "output_type": "execute_result",
          "data": {
            "text/plain": [
              "array(['heads', 'heads', 'heads', 'tails', 'tails', 'tails', 'tails',\n",
              "       'heads', 'heads', 'heads', 'tails', 'heads', 'heads', 'tails',\n",
              "       'heads', 'heads', 'tails', 'tails', 'heads', 'tails', 'tails',\n",
              "       'tails', 'heads', 'heads', 'tails', 'tails', 'tails', 'tails',\n",
              "       'tails', 'tails', 'heads', 'heads', 'tails', 'heads', 'tails',\n",
              "       'heads', 'heads', 'tails', 'tails', 'heads', 'heads', 'heads',\n",
              "       'heads', 'tails', 'heads', 'tails', 'tails', 'heads', 'heads',\n",
              "       'tails', 'tails', 'tails', 'heads', 'heads', 'heads', 'tails',\n",
              "       'heads', 'tails', 'tails', 'heads', 'heads', 'heads', 'tails',\n",
              "       'heads', 'heads', 'heads', 'tails', 'heads', 'heads', 'heads',\n",
              "       'tails', 'tails', 'tails', 'tails', 'heads', 'heads', 'tails',\n",
              "       'heads', 'tails', 'heads', 'tails', 'heads', 'heads', 'heads',\n",
              "       'tails', 'heads', 'tails', 'tails', 'heads', 'heads', 'heads',\n",
              "       'tails', 'tails', 'heads', 'heads', 'tails', 'heads', 'tails',\n",
              "       'tails', 'heads', 'tails', 'tails', 'tails', 'heads', 'tails',\n",
              "       'heads', 'heads', 'heads', 'tails', 'tails', 'tails', 'tails',\n",
              "       'tails', 'tails', 'tails', 'heads', 'heads', 'heads', 'tails',\n",
              "       'tails', 'heads', 'heads', 'heads', 'tails', 'tails', 'heads',\n",
              "       'heads', 'heads', 'heads', 'tails', 'tails', 'heads', 'heads',\n",
              "       'tails', 'heads', 'tails', 'heads', 'tails', 'tails', 'tails',\n",
              "       'heads', 'heads', 'heads', 'tails', 'heads', 'heads', 'heads',\n",
              "       'tails', 'heads', 'heads', 'heads', 'tails', 'tails', 'tails',\n",
              "       'heads', 'tails', 'heads', 'tails', 'tails', 'heads', 'tails',\n",
              "       'heads', 'heads', 'heads', 'heads', 'tails', 'tails', 'tails',\n",
              "       'heads', 'heads', 'tails', 'heads', 'heads', 'heads', 'heads',\n",
              "       'tails', 'tails', 'tails', 'heads', 'heads', 'tails', 'heads',\n",
              "       'heads', 'heads', 'heads', 'tails', 'tails', 'heads', 'heads',\n",
              "       'tails', 'tails', 'tails', 'heads', 'heads', 'heads', 'heads',\n",
              "       'heads', 'tails', 'heads', 'tails', 'heads', 'heads', 'tails',\n",
              "       'heads', 'heads', 'tails', 'heads', 'tails', 'tails', 'tails',\n",
              "       'tails', 'heads', 'tails', 'tails', 'heads', 'heads', 'heads',\n",
              "       'tails', 'tails', 'heads', 'heads', 'heads', 'tails', 'heads',\n",
              "       'heads', 'heads', 'tails', 'tails', 'tails', 'heads', 'heads',\n",
              "       'heads', 'heads', 'tails', 'tails', 'heads', 'tails', 'tails',\n",
              "       'heads', 'tails', 'tails', 'tails', 'heads', 'tails', 'heads',\n",
              "       'tails', 'tails', 'tails', 'heads', 'tails', 'tails', 'heads',\n",
              "       'tails', 'tails', 'tails', 'tails', 'tails', 'heads', 'heads',\n",
              "       'heads', 'heads', 'tails', 'tails', 'heads', 'tails', 'heads',\n",
              "       'heads', 'tails', 'heads', 'heads', 'tails', 'heads', 'tails',\n",
              "       'tails', 'tails', 'heads', 'tails', 'heads', 'tails', 'tails',\n",
              "       'tails', 'tails', 'tails', 'tails', 'heads', 'tails', 'heads',\n",
              "       'tails', 'heads', 'tails', 'heads', 'heads', 'heads', 'tails',\n",
              "       'tails', 'tails', 'tails', 'heads', 'tails', 'heads', 'heads',\n",
              "       'heads', 'heads', 'heads', 'tails', 'heads', 'tails', 'heads',\n",
              "       'heads', 'heads', 'tails', 'heads', 'tails', 'tails', 'heads',\n",
              "       'tails', 'tails', 'heads', 'tails', 'heads', 'heads', 'heads',\n",
              "       'heads', 'tails', 'tails', 'tails', 'tails', 'heads', 'tails',\n",
              "       'heads', 'heads', 'heads', 'heads', 'tails', 'heads', 'heads',\n",
              "       'heads', 'heads', 'heads', 'heads', 'tails', 'heads', 'tails',\n",
              "       'heads', 'tails', 'tails', 'tails', 'heads', 'tails', 'heads',\n",
              "       'heads', 'tails', 'tails', 'tails', 'tails', 'tails', 'tails',\n",
              "       'tails', 'tails', 'heads', 'heads', 'tails', 'tails', 'tails',\n",
              "       'tails', 'heads', 'tails', 'heads', 'tails', 'heads', 'heads',\n",
              "       'heads', 'heads', 'heads', 'heads', 'heads', 'heads', 'heads',\n",
              "       'tails', 'heads', 'heads', 'tails', 'heads', 'tails', 'heads',\n",
              "       'tails', 'heads', 'tails', 'heads', 'heads', 'tails', 'tails',\n",
              "       'tails', 'heads', 'heads', 'heads', 'heads', 'tails', 'heads',\n",
              "       'tails', 'heads', 'heads', 'heads', 'heads', 'heads', 'tails',\n",
              "       'heads', 'tails', 'heads', 'tails', 'tails', 'heads', 'heads',\n",
              "       'heads', 'heads', 'tails', 'tails', 'tails', 'heads', 'tails',\n",
              "       'tails', 'tails', 'tails', 'tails', 'tails', 'heads', 'heads',\n",
              "       'tails', 'tails', 'tails', 'heads', 'tails', 'heads', 'tails',\n",
              "       'tails', 'tails', 'heads', 'tails', 'tails', 'tails', 'heads',\n",
              "       'tails', 'heads', 'heads', 'heads', 'heads', 'heads', 'tails',\n",
              "       'heads', 'tails', 'tails', 'heads', 'tails', 'heads', 'tails',\n",
              "       'heads', 'heads', 'heads', 'heads', 'heads', 'heads', 'heads',\n",
              "       'heads', 'tails', 'heads', 'heads', 'tails', 'heads', 'heads',\n",
              "       'heads', 'tails', 'tails', 'tails', 'tails', 'heads', 'heads',\n",
              "       'heads', 'tails', 'tails', 'heads', 'heads', 'heads', 'heads',\n",
              "       'heads', 'heads', 'tails', 'heads', 'tails', 'heads', 'heads',\n",
              "       'heads', 'heads', 'heads', 'tails', 'tails', 'tails', 'tails',\n",
              "       'heads', 'heads', 'heads', 'tails', 'heads', 'heads', 'heads',\n",
              "       'tails', 'tails', 'tails', 'tails', 'tails', 'tails', 'tails',\n",
              "       'tails', 'heads', 'heads', 'heads', 'tails', 'heads', 'tails',\n",
              "       'heads', 'tails', 'tails', 'tails', 'heads', 'heads', 'tails',\n",
              "       'heads', 'heads', 'tails', 'heads', 'heads', 'tails', 'heads',\n",
              "       'tails', 'heads', 'tails', 'heads', 'tails', 'heads', 'heads',\n",
              "       'heads', 'heads', 'heads', 'tails', 'heads', 'tails', 'heads',\n",
              "       'heads', 'tails', 'heads', 'tails', 'heads', 'heads', 'tails',\n",
              "       'tails', 'heads', 'tails', 'heads', 'heads', 'tails', 'heads',\n",
              "       'heads', 'heads', 'tails', 'heads', 'heads', 'heads', 'heads',\n",
              "       'heads', 'heads', 'tails', 'tails', 'tails', 'tails', 'heads',\n",
              "       'tails', 'tails', 'heads', 'heads', 'heads', 'heads', 'tails',\n",
              "       'heads', 'tails', 'heads', 'heads', 'heads', 'heads', 'heads',\n",
              "       'tails', 'heads', 'tails', 'tails', 'heads', 'tails', 'heads',\n",
              "       'heads', 'heads', 'tails', 'tails', 'tails', 'tails', 'tails',\n",
              "       'heads', 'heads', 'heads', 'heads', 'tails', 'heads', 'tails',\n",
              "       'tails', 'tails', 'heads', 'heads', 'tails', 'tails', 'tails',\n",
              "       'tails', 'tails', 'heads', 'heads', 'heads', 'heads', 'heads',\n",
              "       'heads', 'heads', 'heads', 'heads', 'heads', 'heads', 'tails',\n",
              "       'heads', 'tails', 'tails', 'tails', 'heads', 'tails', 'tails',\n",
              "       'tails', 'tails', 'heads', 'heads', 'tails', 'tails', 'tails',\n",
              "       'tails', 'tails', 'heads', 'heads', 'heads', 'tails', 'tails',\n",
              "       'tails', 'tails', 'heads', 'heads', 'heads', 'heads', 'heads',\n",
              "       'heads', 'heads', 'heads', 'heads', 'tails', 'heads', 'heads',\n",
              "       'tails', 'heads', 'heads', 'tails', 'heads', 'tails', 'heads',\n",
              "       'tails', 'tails', 'heads', 'tails', 'heads', 'tails', 'tails',\n",
              "       'heads', 'heads', 'heads', 'heads', 'tails', 'heads', 'tails',\n",
              "       'tails', 'heads', 'tails', 'heads', 'heads', 'heads', 'tails',\n",
              "       'heads', 'heads', 'tails', 'tails', 'heads', 'heads', 'heads',\n",
              "       'heads', 'tails', 'heads', 'tails', 'tails', 'tails', 'tails',\n",
              "       'heads', 'tails', 'tails', 'tails', 'tails', 'heads', 'tails',\n",
              "       'tails', 'tails', 'tails', 'tails', 'heads', 'heads', 'tails',\n",
              "       'tails', 'heads', 'heads', 'heads', 'heads', 'heads', 'tails',\n",
              "       'heads', 'tails', 'tails', 'heads', 'tails', 'heads', 'heads',\n",
              "       'heads', 'tails', 'heads', 'tails', 'heads', 'heads', 'heads',\n",
              "       'heads', 'tails', 'tails', 'heads', 'heads', 'tails', 'heads',\n",
              "       'tails', 'heads', 'heads', 'heads', 'heads', 'heads', 'tails',\n",
              "       'heads', 'heads', 'heads', 'heads', 'heads', 'heads', 'heads',\n",
              "       'tails', 'heads', 'heads', 'heads', 'heads', 'tails', 'tails',\n",
              "       'heads', 'heads', 'heads', 'heads', 'tails', 'heads', 'heads',\n",
              "       'tails', 'heads', 'heads', 'tails', 'heads', 'tails', 'tails',\n",
              "       'tails', 'heads', 'heads', 'heads', 'tails', 'heads', 'heads',\n",
              "       'tails', 'tails', 'heads', 'heads', 'heads', 'heads', 'tails',\n",
              "       'heads', 'heads', 'tails', 'heads', 'tails', 'tails', 'heads',\n",
              "       'tails', 'tails', 'heads', 'heads', 'tails', 'tails', 'heads',\n",
              "       'heads', 'heads', 'heads', 'heads', 'tails', 'heads', 'heads',\n",
              "       'heads', 'heads', 'heads', 'heads', 'heads', 'heads', 'tails',\n",
              "       'heads', 'tails', 'heads', 'tails', 'tails', 'heads', 'tails',\n",
              "       'tails', 'heads', 'tails', 'heads', 'heads', 'heads', 'heads',\n",
              "       'tails', 'heads', 'heads', 'heads', 'tails', 'tails', 'tails',\n",
              "       'heads', 'tails', 'heads', 'heads', 'tails', 'tails', 'tails',\n",
              "       'heads', 'tails', 'tails', 'tails', 'heads', 'heads', 'heads',\n",
              "       'tails', 'tails', 'heads', 'tails', 'tails', 'tails', 'tails',\n",
              "       'tails', 'tails', 'tails', 'tails', 'heads', 'heads', 'heads',\n",
              "       'heads', 'tails', 'tails', 'tails', 'heads', 'tails', 'tails',\n",
              "       'tails', 'heads', 'tails', 'tails', 'heads', 'heads', 'heads',\n",
              "       'tails', 'tails', 'heads', 'heads', 'heads', 'tails', 'heads',\n",
              "       'heads', 'heads', 'heads', 'heads', 'heads', 'heads', 'heads',\n",
              "       'tails', 'tails', 'tails', 'heads', 'heads', 'tails', 'tails',\n",
              "       'tails', 'heads', 'heads', 'tails', 'tails', 'heads', 'tails',\n",
              "       'tails', 'heads', 'tails', 'tails', 'heads', 'tails', 'heads',\n",
              "       'tails', 'tails', 'tails', 'tails', 'heads', 'tails', 'tails',\n",
              "       'tails', 'tails', 'tails', 'tails', 'tails', 'heads', 'heads',\n",
              "       'heads', 'tails', 'heads', 'heads', 'tails', 'tails', 'heads',\n",
              "       'tails', 'tails', 'tails', 'tails', 'tails', 'heads', 'tails',\n",
              "       'tails', 'heads', 'heads', 'heads', 'tails', 'heads', 'heads',\n",
              "       'tails', 'tails', 'heads', 'tails', 'tails', 'tails', 'tails',\n",
              "       'heads', 'tails', 'tails', 'heads', 'heads', 'heads', 'heads',\n",
              "       'heads', 'tails', 'tails', 'tails', 'tails', 'tails', 'tails',\n",
              "       'tails', 'tails', 'tails', 'tails', 'heads', 'tails', 'tails',\n",
              "       'heads', 'tails', 'tails', 'tails', 'tails', 'tails', 'tails',\n",
              "       'heads', 'tails', 'tails', 'heads', 'heads', 'heads'], dtype='<U5')"
            ]
          },
          "metadata": {},
          "execution_count": 4
        }
      ]
    },
    {
      "cell_type": "code",
      "source": [
        "np.sum(throws == \"heads\")"
      ],
      "metadata": {
        "colab": {
          "base_uri": "https://localhost:8080/"
        },
        "id": "vmA2Ze-RpJYM",
        "outputId": "aa01f714-c3f3-4a08-f34a-7677244c7a01"
      },
      "execution_count": 5,
      "outputs": [
        {
          "output_type": "execute_result",
          "data": {
            "text/plain": [
              "527"
            ]
          },
          "metadata": {},
          "execution_count": 5
        }
      ]
    },
    {
      "cell_type": "code",
      "source": [
        "np.sum(throws == \"tails\")"
      ],
      "metadata": {
        "colab": {
          "base_uri": "https://localhost:8080/"
        },
        "id": "eUfCndtupNEg",
        "outputId": "55560332-492a-4f55-df29-9d7d00b26b61"
      },
      "execution_count": 6,
      "outputs": [
        {
          "output_type": "execute_result",
          "data": {
            "text/plain": [
              "473"
            ]
          },
          "metadata": {},
          "execution_count": 6
        }
      ]
    },
    {
      "cell_type": "code",
      "source": [
        "probabilities = [0.5, 0.5]"
      ],
      "metadata": {
        "id": "iV3588VyqBEM"
      },
      "execution_count": 7,
      "outputs": []
    },
    {
      "cell_type": "code",
      "source": [
        "probabilities = np.random.choice(coint,number_of_throws, p=probabilities)"
      ],
      "metadata": {
        "id": "95GX6yetpPM7"
      },
      "execution_count": 8,
      "outputs": []
    },
    {
      "cell_type": "code",
      "source": [
        "probabilities = [0.3, 0.7]"
      ],
      "metadata": {
        "id": "MxAKQchKq-eQ"
      },
      "execution_count": 9,
      "outputs": []
    },
    {
      "cell_type": "code",
      "source": [
        "throws_with_p = np.random.choice(coint, number_of_throws, p=probabilities)\n",
        "throws_with_p"
      ],
      "metadata": {
        "colab": {
          "base_uri": "https://localhost:8080/"
        },
        "id": "1cVpbXBFrJjl",
        "outputId": "94e7e791-77cb-46a4-fb95-9eb6e72d3ecc"
      },
      "execution_count": 10,
      "outputs": [
        {
          "output_type": "execute_result",
          "data": {
            "text/plain": [
              "array(['tails', 'tails', 'heads', 'tails', 'tails', 'heads', 'tails',\n",
              "       'heads', 'heads', 'tails', 'heads', 'tails', 'tails', 'heads',\n",
              "       'tails', 'heads', 'tails', 'tails', 'tails', 'heads', 'tails',\n",
              "       'heads', 'tails', 'tails', 'tails', 'tails', 'tails', 'heads',\n",
              "       'tails', 'tails', 'tails', 'tails', 'heads', 'tails', 'heads',\n",
              "       'tails', 'heads', 'tails', 'heads', 'tails', 'tails', 'heads',\n",
              "       'tails', 'heads', 'tails', 'heads', 'heads', 'tails', 'tails',\n",
              "       'tails', 'tails', 'heads', 'heads', 'tails', 'tails', 'heads',\n",
              "       'tails', 'heads', 'heads', 'heads', 'tails', 'tails', 'tails',\n",
              "       'tails', 'tails', 'tails', 'heads', 'heads', 'tails', 'tails',\n",
              "       'tails', 'tails', 'tails', 'tails', 'tails', 'tails', 'tails',\n",
              "       'tails', 'tails', 'tails', 'tails', 'tails', 'heads', 'tails',\n",
              "       'tails', 'tails', 'heads', 'tails', 'heads', 'tails', 'tails',\n",
              "       'tails', 'tails', 'tails', 'tails', 'tails', 'heads', 'tails',\n",
              "       'tails', 'tails', 'heads', 'tails', 'tails', 'tails', 'heads',\n",
              "       'tails', 'tails', 'tails', 'tails', 'heads', 'heads', 'tails',\n",
              "       'tails', 'heads', 'heads', 'tails', 'tails', 'tails', 'tails',\n",
              "       'tails', 'tails', 'tails', 'tails', 'tails', 'heads', 'tails',\n",
              "       'heads', 'tails', 'tails', 'heads', 'heads', 'heads', 'tails',\n",
              "       'heads', 'tails', 'tails', 'tails', 'tails', 'heads', 'tails',\n",
              "       'tails', 'heads', 'tails', 'tails', 'heads', 'heads', 'tails',\n",
              "       'tails', 'tails', 'heads', 'tails', 'tails', 'tails', 'tails',\n",
              "       'heads', 'tails', 'heads', 'tails', 'tails', 'heads', 'tails',\n",
              "       'tails', 'tails', 'tails', 'heads', 'heads', 'tails', 'tails',\n",
              "       'tails', 'tails', 'tails', 'heads', 'heads', 'tails', 'tails',\n",
              "       'heads', 'tails', 'tails', 'tails', 'tails', 'heads', 'heads',\n",
              "       'tails', 'tails', 'tails', 'heads', 'tails', 'heads', 'tails',\n",
              "       'tails', 'tails', 'tails', 'heads', 'tails', 'tails', 'tails',\n",
              "       'tails', 'heads', 'heads', 'tails', 'heads', 'tails', 'heads',\n",
              "       'tails', 'tails', 'tails', 'tails', 'tails', 'tails', 'heads',\n",
              "       'heads', 'heads', 'tails', 'tails', 'tails', 'tails', 'tails',\n",
              "       'heads', 'tails', 'tails', 'tails', 'tails', 'tails', 'tails',\n",
              "       'tails', 'tails', 'tails', 'tails', 'heads', 'tails', 'heads',\n",
              "       'tails', 'heads', 'tails', 'tails', 'tails', 'tails', 'tails',\n",
              "       'heads', 'tails', 'tails', 'tails', 'tails', 'heads', 'tails',\n",
              "       'tails', 'tails', 'tails', 'tails', 'tails', 'tails', 'tails',\n",
              "       'tails', 'heads', 'tails', 'tails', 'tails', 'heads', 'tails',\n",
              "       'tails', 'tails', 'heads', 'heads', 'tails', 'tails', 'tails',\n",
              "       'tails', 'tails', 'tails', 'tails', 'heads', 'tails', 'tails',\n",
              "       'tails', 'heads', 'tails', 'tails', 'tails', 'tails', 'tails',\n",
              "       'tails', 'tails', 'tails', 'tails', 'tails', 'heads', 'heads',\n",
              "       'heads', 'tails', 'tails', 'tails', 'tails', 'heads', 'tails',\n",
              "       'tails', 'tails', 'tails', 'tails', 'tails', 'tails', 'heads',\n",
              "       'tails', 'tails', 'heads', 'heads', 'tails', 'tails', 'tails',\n",
              "       'heads', 'heads', 'tails', 'tails', 'heads', 'tails', 'tails',\n",
              "       'tails', 'tails', 'tails', 'tails', 'tails', 'tails', 'tails',\n",
              "       'tails', 'tails', 'tails', 'heads', 'tails', 'heads', 'tails',\n",
              "       'tails', 'tails', 'heads', 'tails', 'tails', 'tails', 'tails',\n",
              "       'tails', 'tails', 'tails', 'tails', 'heads', 'tails', 'heads',\n",
              "       'heads', 'tails', 'heads', 'tails', 'heads', 'tails', 'heads',\n",
              "       'tails', 'tails', 'tails', 'tails', 'tails', 'heads', 'tails',\n",
              "       'tails', 'tails', 'tails', 'heads', 'tails', 'tails', 'tails',\n",
              "       'heads', 'tails', 'tails', 'tails', 'heads', 'tails', 'tails',\n",
              "       'tails', 'tails', 'tails', 'tails', 'heads', 'heads', 'tails',\n",
              "       'tails', 'tails', 'tails', 'heads', 'tails', 'tails', 'tails',\n",
              "       'tails', 'heads', 'tails', 'tails', 'tails', 'tails', 'tails',\n",
              "       'tails', 'heads', 'heads', 'heads', 'heads', 'tails', 'heads',\n",
              "       'tails', 'heads', 'heads', 'tails', 'heads', 'tails', 'tails',\n",
              "       'tails', 'heads', 'heads', 'heads', 'tails', 'tails', 'tails',\n",
              "       'tails', 'heads', 'tails', 'tails', 'heads', 'tails', 'tails',\n",
              "       'tails', 'tails', 'tails', 'tails', 'tails', 'tails', 'tails',\n",
              "       'tails', 'heads', 'tails', 'heads', 'tails', 'tails', 'tails',\n",
              "       'tails', 'tails', 'tails', 'tails', 'tails', 'tails', 'tails',\n",
              "       'heads', 'heads', 'heads', 'heads', 'heads', 'heads', 'tails',\n",
              "       'tails', 'tails', 'tails', 'heads', 'tails', 'heads', 'tails',\n",
              "       'tails', 'tails', 'tails', 'tails', 'heads', 'tails', 'tails',\n",
              "       'tails', 'heads', 'tails', 'tails', 'heads', 'tails', 'tails',\n",
              "       'heads', 'tails', 'heads', 'tails', 'tails', 'tails', 'tails',\n",
              "       'tails', 'heads', 'tails', 'heads', 'tails', 'tails', 'tails',\n",
              "       'heads', 'tails', 'tails', 'heads', 'tails', 'tails', 'tails',\n",
              "       'heads', 'heads', 'heads', 'tails', 'heads', 'heads', 'tails',\n",
              "       'tails', 'tails', 'heads', 'tails', 'heads', 'tails', 'heads',\n",
              "       'heads', 'tails', 'tails', 'tails', 'tails', 'tails', 'tails',\n",
              "       'tails', 'tails', 'tails', 'tails', 'tails', 'tails', 'heads',\n",
              "       'tails', 'heads', 'tails', 'tails', 'heads', 'tails', 'tails',\n",
              "       'heads', 'heads', 'tails', 'tails', 'tails', 'tails', 'tails',\n",
              "       'heads', 'tails', 'tails', 'tails', 'heads', 'heads', 'tails',\n",
              "       'tails', 'heads', 'tails', 'tails', 'tails', 'tails', 'heads',\n",
              "       'heads', 'tails', 'tails', 'tails', 'tails', 'heads', 'heads',\n",
              "       'tails', 'heads', 'heads', 'tails', 'heads', 'heads', 'tails',\n",
              "       'tails', 'tails', 'tails', 'tails', 'heads', 'tails', 'tails',\n",
              "       'tails', 'tails', 'tails', 'tails', 'tails', 'tails', 'tails',\n",
              "       'heads', 'tails', 'tails', 'tails', 'tails', 'heads', 'tails',\n",
              "       'tails', 'tails', 'tails', 'tails', 'tails', 'tails', 'heads',\n",
              "       'tails', 'tails', 'tails', 'tails', 'heads', 'tails', 'heads',\n",
              "       'heads', 'tails', 'heads', 'tails', 'tails', 'tails', 'heads',\n",
              "       'heads', 'tails', 'heads', 'heads', 'heads', 'tails', 'heads',\n",
              "       'tails', 'tails', 'heads', 'tails', 'heads', 'tails', 'tails',\n",
              "       'heads', 'tails', 'tails', 'heads', 'tails', 'heads', 'tails',\n",
              "       'heads', 'tails', 'tails', 'tails', 'tails', 'tails', 'heads',\n",
              "       'tails', 'tails', 'heads', 'tails', 'heads', 'tails', 'tails',\n",
              "       'tails', 'tails', 'tails', 'tails', 'heads', 'tails', 'heads',\n",
              "       'tails', 'tails', 'tails', 'heads', 'tails', 'heads', 'tails',\n",
              "       'tails', 'tails', 'tails', 'tails', 'tails', 'heads', 'heads',\n",
              "       'tails', 'tails', 'tails', 'tails', 'tails', 'tails', 'heads',\n",
              "       'tails', 'tails', 'tails', 'tails', 'tails', 'tails', 'heads',\n",
              "       'heads', 'tails', 'tails', 'tails', 'tails', 'tails', 'heads',\n",
              "       'tails', 'tails', 'tails', 'tails', 'tails', 'heads', 'tails',\n",
              "       'tails', 'tails', 'tails', 'tails', 'tails', 'heads', 'tails',\n",
              "       'tails', 'tails', 'tails', 'tails', 'tails', 'tails', 'tails',\n",
              "       'tails', 'tails', 'tails', 'tails', 'heads', 'heads', 'tails',\n",
              "       'tails', 'tails', 'tails', 'tails', 'tails', 'heads', 'tails',\n",
              "       'tails', 'tails', 'tails', 'tails', 'tails', 'tails', 'heads',\n",
              "       'tails', 'tails', 'tails', 'tails', 'tails', 'tails', 'tails',\n",
              "       'tails', 'tails', 'tails', 'tails', 'tails', 'tails', 'tails',\n",
              "       'heads', 'tails', 'heads', 'tails', 'heads', 'tails', 'tails',\n",
              "       'tails', 'tails', 'heads', 'tails', 'tails', 'tails', 'heads',\n",
              "       'tails', 'heads', 'tails', 'tails', 'tails', 'tails', 'tails',\n",
              "       'heads', 'heads', 'tails', 'tails', 'tails', 'tails', 'heads',\n",
              "       'heads', 'tails', 'heads', 'tails', 'tails', 'tails', 'tails',\n",
              "       'tails', 'tails', 'tails', 'tails', 'tails', 'tails', 'tails',\n",
              "       'tails', 'tails', 'heads', 'heads', 'heads', 'heads', 'tails',\n",
              "       'heads', 'tails', 'heads', 'tails', 'tails', 'tails', 'tails',\n",
              "       'tails', 'tails', 'tails', 'tails', 'tails', 'tails', 'tails',\n",
              "       'heads', 'heads', 'tails', 'tails', 'heads', 'tails', 'tails',\n",
              "       'heads', 'tails', 'tails', 'tails', 'tails', 'tails', 'tails',\n",
              "       'heads', 'heads', 'tails', 'tails', 'tails', 'tails', 'tails',\n",
              "       'heads', 'tails', 'heads', 'tails', 'tails', 'tails', 'tails',\n",
              "       'tails', 'tails', 'heads', 'heads', 'tails', 'tails', 'tails',\n",
              "       'tails', 'heads', 'tails', 'heads', 'tails', 'tails', 'tails',\n",
              "       'heads', 'tails', 'tails', 'tails', 'heads', 'tails', 'tails',\n",
              "       'tails', 'tails', 'tails', 'tails', 'tails', 'heads', 'tails',\n",
              "       'heads', 'tails', 'heads', 'tails', 'tails', 'tails', 'heads',\n",
              "       'tails', 'tails', 'tails', 'tails', 'tails', 'tails', 'heads',\n",
              "       'tails', 'heads', 'tails', 'tails', 'heads', 'tails', 'heads',\n",
              "       'tails', 'tails', 'tails', 'tails', 'tails', 'tails', 'tails',\n",
              "       'heads', 'heads', 'heads', 'tails', 'tails', 'tails', 'tails',\n",
              "       'tails', 'tails', 'tails', 'heads', 'tails', 'tails', 'tails',\n",
              "       'heads', 'tails', 'tails', 'heads', 'tails', 'tails', 'tails',\n",
              "       'tails', 'heads', 'heads', 'tails', 'tails', 'heads', 'tails',\n",
              "       'heads', 'tails', 'tails', 'tails', 'heads', 'tails', 'tails',\n",
              "       'tails', 'heads', 'heads', 'tails', 'tails', 'tails', 'heads',\n",
              "       'tails', 'heads', 'tails', 'heads', 'tails', 'tails', 'tails',\n",
              "       'tails', 'tails', 'tails', 'tails', 'tails', 'tails', 'tails',\n",
              "       'tails', 'tails', 'tails', 'tails', 'tails', 'tails', 'heads',\n",
              "       'tails', 'tails', 'tails', 'heads', 'heads', 'tails', 'tails',\n",
              "       'tails', 'tails', 'tails', 'tails', 'tails', 'heads', 'tails',\n",
              "       'heads', 'tails', 'heads', 'tails', 'tails', 'tails', 'tails',\n",
              "       'heads', 'tails', 'heads', 'tails', 'tails', 'tails', 'tails',\n",
              "       'tails', 'tails', 'heads', 'tails', 'tails', 'heads', 'tails',\n",
              "       'tails', 'tails', 'heads', 'tails', 'tails', 'heads', 'tails',\n",
              "       'tails', 'tails', 'tails', 'tails', 'tails', 'heads', 'tails',\n",
              "       'tails', 'heads', 'heads', 'tails', 'tails', 'heads'], dtype='<U5')"
            ]
          },
          "metadata": {},
          "execution_count": 10
        }
      ]
    },
    {
      "cell_type": "code",
      "source": [
        "print(np.sum(throws_with_p == \"heads\"))\n",
        "print(np.sum(throws_with_p == \"tails\"))"
      ],
      "metadata": {
        "colab": {
          "base_uri": "https://localhost:8080/"
        },
        "id": "GF-UElWbrVtV",
        "outputId": "a5f2b92e-8d72-497c-d25a-6aa6e3ed0640"
      },
      "execution_count": 11,
      "outputs": [
        {
          "output_type": "stream",
          "name": "stdout",
          "text": [
            "274\n",
            "726\n"
          ]
        }
      ]
    },
    {
      "cell_type": "markdown",
      "source": [
        "#Coin landing on a side"
      ],
      "metadata": {
        "id": "Yp475vaKs1qi"
      }
    },
    {
      "cell_type": "code",
      "source": [
        "import numpy as np\n",
        "coin = ['heads', 'tails', 'side']\n",
        "\n",
        "probabilities = [0.49165, 0.49165, 0.0167] #the probability of the coin landing on a side is 0.0167\n",
        "\n",
        "number_of_throws = 100000\n",
        "\n",
        "throws = np.random.choice(coin, number_of_throws, p =probabilities)\n",
        "\n",
        "print(f\"heads: {np.sum(throws == 'heads')}\")\n",
        "print(f\"tails: {np.sum(throws == 'tails')}\")\n",
        "print(f\"side: {np.sum(throws == 'side')}\")\n",
        "unique, counts = np.unique(throws, return_counts=True )\n",
        "import matplotlib.pyplot as plt\n",
        "plt.bar(unique, counts)\n",
        "\n",
        "import matplotlib.pyplot as plt\n",
        "\n",
        "total_heads_side = np.sum(throws == \"heads\")\n",
        "total_tails_side = np.sum(throws == \"tails\")\n",
        "total_side = np.sum(throws == \"side\")\n",
        "\n",
        "plt.bar(coin, [total_heads_side, total_tails_side, total_side], color=\"teal\")\n",
        "plt.title(\"Coin Toss with Side landing\")\n",
        "plt.xlabel(\"Landing result\")\n",
        "plt.ylabel(\"Frequency\")\n",
        "plt.show()\n",
        "\n"
      ],
      "metadata": {
        "colab": {
          "base_uri": "https://localhost:8080/",
          "height": 524
        },
        "id": "Fw3mJvHss5tx",
        "outputId": "a539642c-846f-4208-b67c-0a90768083f0"
      },
      "execution_count": 14,
      "outputs": [
        {
          "output_type": "stream",
          "name": "stdout",
          "text": [
            "heads: 49227\n",
            "tails: 49076\n",
            "side: 1697\n"
          ]
        },
        {
          "output_type": "display_data",
          "data": {
            "text/plain": [
              "<Figure size 640x480 with 1 Axes>"
            ],
            "image/png": "[encoded data removed]"
          },
          "metadata": {}
        }
      ]
    },
    {
      "cell_type": "markdown",
      "source": [
        "#HISTOGRAM"
      ],
      "metadata": {
        "id": "lIyYBaF-vBJN"
      }
    },
    {
      "cell_type": "code",
      "source": [
        "np.random.randint(1,100)\n",
        "\n",
        "np.random.randint(1,100, 10)\n",
        "numbers = np.random.randint(1,101, 100000)\n",
        "plt.hist(numbers, bins = 10, color= 'skyblue', edgecolor='black', alpha=0.7)\n",
        "plt.title('Frequency of random integers from [1, 100]')"
      ],
      "metadata": {
        "colab": {
          "base_uri": "https://localhost:8080/",
          "height": 469
        },
        "id": "QJdTm9_avHeA",
        "outputId": "4869e560-c44f-4d1c-f887-486e41eaa806"
      },
      "execution_count": 15,
      "outputs": [
        {
          "output_type": "execute_result",
          "data": {
            "text/plain": [
              "Text(0.5, 1.0, 'Frequency of random integers from [1, 100]')"
            ]
          },
          "metadata": {},
          "execution_count": 15
        },
        {
          "output_type": "display_data",
          "data": {
            "text/plain": [
              "<Figure size 640x480 with 1 Axes>"
            ],
            "image/png": "[encoded data removed]"
          },
          "metadata": {}
        }
      ]
    }
  ]
}